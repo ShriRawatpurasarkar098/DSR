{
 "cells": [
  {
   "cell_type": "markdown",
   "id": "427b8ee6",
   "metadata": {},
   "source": [
    "# Question 1 Write a RegEx pattern in python program to check that a string contains only a certain set of characters (in this case a-z, A-Z and 0-9)"
   ]
  },
  {
   "cell_type": "code",
   "execution_count": 65,
   "id": "ba7fa456",
   "metadata": {},
   "outputs": [
    {
     "name": "stdout",
     "output_type": "stream",
     "text": [
      "correct\n"
     ]
    }
   ],
   "source": [
    "str ='abcdef12789WXYZ'\n",
    "result=re.findall(r'[a-zA-Z0-9]',str)\n",
    "if result:\n",
    "    print('correct')\n",
    "else:\n",
    "    print('not correct')"
   ]
  },
  {
   "cell_type": "code",
   "execution_count": 63,
   "id": "7084ca66",
   "metadata": {},
   "outputs": [
    {
     "name": "stdout",
     "output_type": "stream",
     "text": [
      "not correct\n"
     ]
    }
   ],
   "source": [
    "str ='!@£$'\n",
    "result=re.findall(r'[a-zA-Z0-9]',str)\n",
    "if result:\n",
    "    print('correct')\n",
    "else:\n",
    "    print('not correct')"
   ]
  },
  {
   "cell_type": "code",
   "execution_count": 42,
   "id": "b04efd6d",
   "metadata": {},
   "outputs": [
    {
     "name": "stdout",
     "output_type": "stream",
     "text": [
      "correct\n"
     ]
    }
   ],
   "source": [
    "str ='how are you'\n",
    "result=re.search(r'\\w',str)\n",
    "if result:\n",
    "    print('correct')\n",
    "else:\n",
    "    print('not correct')"
   ]
  },
  {
   "cell_type": "code",
   "execution_count": 43,
   "id": "38160537",
   "metadata": {},
   "outputs": [
    {
     "name": "stdout",
     "output_type": "stream",
     "text": [
      "not correct\n"
     ]
    }
   ],
   "source": [
    "str ='!@£$'\n",
    "result=re.search(r'\\w',str)\n",
    "if result:\n",
    "    print('correct')\n",
    "else:\n",
    "    print('not correct')"
   ]
  },
  {
   "cell_type": "code",
   "execution_count": 49,
   "id": "c6955535",
   "metadata": {},
   "outputs": [
    {
     "name": "stdout",
     "output_type": "stream",
     "text": [
      "correct\n"
     ]
    }
   ],
   "source": [
    "str ='how are you 1234'\n",
    "result=re.findall(r'\\w',str)\n",
    "if result:\n",
    "    print('correct')\n",
    "else:\n",
    "    print('not correct')"
   ]
  },
  {
   "cell_type": "code",
   "execution_count": 66,
   "id": "4d07fca4",
   "metadata": {},
   "outputs": [
    {
     "name": "stdout",
     "output_type": "stream",
     "text": [
      "not correct\n"
     ]
    }
   ],
   "source": [
    "str ='abcdef12789WXYZ'\n",
    "result=re.findall(r'[^a-zA-Z0-9]',str)\n",
    "if result:\n",
    "    print('correct')\n",
    "else:\n",
    "    print('not correct')"
   ]
  },
  {
   "cell_type": "markdown",
   "id": "06ca1a2f",
   "metadata": {},
   "source": [
    "# Question 2- Write a RegEx pattern that matches a string that has an a followed by zero or more b's"
   ]
  },
  {
   "cell_type": "code",
   "execution_count": 111,
   "id": "bf1b6097",
   "metadata": {},
   "outputs": [
    {
     "name": "stdout",
     "output_type": "stream",
     "text": [
      "['AB', 'abbbb', 'abb', 'a', 'ab', 'ab']\n"
     ]
    }
   ],
   "source": [
    "str ='AB cd how 123 abbbb 89 !@£abba jab absolutely wonderful'\n",
    "result=re.findall(r'ab*',str,re.IGNORECASE)\n",
    "print (result)\n"
   ]
  },
  {
   "cell_type": "code",
   "execution_count": 91,
   "id": "5a44e9b6",
   "metadata": {},
   "outputs": [
    {
     "name": "stdout",
     "output_type": "stream",
     "text": [
      "None\n"
     ]
    }
   ],
   "source": [
    "str ='AB cd how 123 abbb 89 !@£aabb jab absolutely wonderful'\n",
    "result=re.match(r'ab*',str)\n",
    "print (result)"
   ]
  },
  {
   "cell_type": "markdown",
   "id": "777e8a23",
   "metadata": {},
   "source": [
    "# Question 3-  Write a RegEx pattern that matches a string that has an a followed by one or more b's"
   ]
  },
  {
   "cell_type": "code",
   "execution_count": 115,
   "id": "119aa26a",
   "metadata": {},
   "outputs": [
    {
     "name": "stdout",
     "output_type": "stream",
     "text": [
      "['abbbb', 'abb', 'ab']\n"
     ]
    }
   ],
   "source": [
    "str ='AB cd how 123 abbbb 89 !@£abba ja absolutely wonderful'\n",
    "result=re.findall(r'ab+',str)\n",
    "print (result)"
   ]
  },
  {
   "cell_type": "markdown",
   "id": "32b36532",
   "metadata": {},
   "source": [
    "# Question 4- Write a RegEx pattern that matches a string that has an a followed by zero or one 'b'."
   ]
  },
  {
   "cell_type": "code",
   "execution_count": 118,
   "id": "a1332afb",
   "metadata": {},
   "outputs": [
    {
     "name": "stdout",
     "output_type": "stream",
     "text": [
      "['a', 'ab', 'a']\n"
     ]
    }
   ],
   "source": [
    "str ='AB cd how 123 a 89 !@£abba'\n",
    "result=re.findall(r'ab?',str)\n",
    "print (result)"
   ]
  },
  {
   "cell_type": "code",
   "execution_count": 119,
   "id": "0132b3c9",
   "metadata": {},
   "outputs": [
    {
     "name": "stdout",
     "output_type": "stream",
     "text": [
      "['AB', 'a', 'ab', 'a']\n"
     ]
    }
   ],
   "source": [
    "str ='AB cd how 123 a 89 !@£abba'\n",
    "result=re.findall(r'ab?',str,re.IGNORECASE)\n",
    "print (result)"
   ]
  },
  {
   "cell_type": "markdown",
   "id": "b7182f6c",
   "metadata": {},
   "source": [
    "# Question 5- Write a RegEx pattern in python program that matches a string that has an a followed by three 'b"
   ]
  },
  {
   "cell_type": "code",
   "execution_count": 121,
   "id": "f42f0b2b",
   "metadata": {},
   "outputs": [
    {
     "name": "stdout",
     "output_type": "stream",
     "text": [
      "['abbb', 'ABBB']\n"
     ]
    }
   ],
   "source": [
    "str ='AB cd how 123 abbbb 89 !@£abABBB ja absolutely wonderful'\n",
    "result=re.findall(r'ab{3}',str,re.IGNORECASE)\n",
    "print (result)"
   ]
  },
  {
   "cell_type": "markdown",
   "id": "47edf5d0",
   "metadata": {},
   "source": [
    "# Question 6- Write a RegEx pattern in python program that matches a string that has an a followed by two to three 'b'."
   ]
  },
  {
   "cell_type": "code",
   "execution_count": 123,
   "id": "42cccdce",
   "metadata": {},
   "outputs": [
    {
     "name": "stdout",
     "output_type": "stream",
     "text": [
      "['abbb', 'abb']\n"
     ]
    }
   ],
   "source": [
    "str ='AB cd how 123 abbbb 89 !@£abba jab absolutely wonderful'\n",
    "result=re.findall(r'ab{2,3}',str,re.IGNORECASE)\n",
    "print (result)"
   ]
  },
  {
   "cell_type": "markdown",
   "id": "86c20c29",
   "metadata": {},
   "source": [
    "# Question 7- Write a Python program that matches a string that has an 'a' followed by anything, ending in 'b'"
   ]
  },
  {
   "cell_type": "code",
   "execution_count": 208,
   "id": "5511beea",
   "metadata": {},
   "outputs": [
    {
     "name": "stdout",
     "output_type": "stream",
     "text": [
      "['abcdb arab aatishb abience boatb tuab']\n"
     ]
    }
   ],
   "source": [
    "str ='Apple abcdb arab aatishb abience boatb tuab'\n",
    "result=re.findall('a.+?b$',str)\n",
    "print(result)"
   ]
  },
  {
   "cell_type": "markdown",
   "id": "f29309f9",
   "metadata": {},
   "source": [
    "# Question 8- Write a RegEx pattern in python program that matches a word at the beginning of a string."
   ]
  },
  {
   "cell_type": "code",
   "execution_count": 159,
   "id": "4724b088",
   "metadata": {},
   "outputs": [
    {
     "name": "stdout",
     "output_type": "stream",
     "text": [
      "<re.Match object; span=(0, 5), match='Apple'>\n"
     ]
    }
   ],
   "source": [
    "str ='Apple arab aatishb abience boatb tuab '\n",
    "result=re.match(r'^apple',str,re.IGNORECASE)\n",
    "print(result)"
   ]
  },
  {
   "cell_type": "code",
   "execution_count": 160,
   "id": "8700b7eb",
   "metadata": {},
   "outputs": [
    {
     "name": "stdout",
     "output_type": "stream",
     "text": [
      "None\n"
     ]
    }
   ],
   "source": [
    "str ='Apple arab aatishb abience boatb tuab '\n",
    "result=re.match(r'^boat',str,re.IGNORECASE)\n",
    "print(result)"
   ]
  },
  {
   "cell_type": "markdown",
   "id": "e8cb4d30",
   "metadata": {},
   "source": [
    "# Question 9- Write a RegEx pattern in python program that matches a word at the end of a string."
   ]
  },
  {
   "cell_type": "code",
   "execution_count": 163,
   "id": "cfa5bd9b",
   "metadata": {},
   "outputs": [
    {
     "name": "stdout",
     "output_type": "stream",
     "text": [
      "<re.Match object; span=(33, 37), match='tuab'>\n"
     ]
    }
   ],
   "source": [
    "str ='Apple arab aatishb abience boatb tuab'\n",
    "result=re.search(r'tuab$',str,re.IGNORECASE)\n",
    "print(result)"
   ]
  },
  {
   "cell_type": "code",
   "execution_count": 164,
   "id": "298cab9d",
   "metadata": {},
   "outputs": [
    {
     "name": "stdout",
     "output_type": "stream",
     "text": [
      "None\n"
     ]
    }
   ],
   "source": [
    "str ='Apple arab aatishb abience boatb tuab'\n",
    "result=re.search(r'apple$',str,re.IGNORECASE)\n",
    "print(result)"
   ]
  },
  {
   "cell_type": "markdown",
   "id": "4850226e",
   "metadata": {},
   "source": [
    "# Question 10- Write a RegEx pattern in python program to find all words that are 4 digits long in a string."
   ]
  },
  {
   "cell_type": "code",
   "execution_count": 180,
   "id": "fbb8ef04",
   "metadata": {},
   "outputs": [
    {
     "name": "stdout",
     "output_type": "stream",
     "text": [
      "['long', 'foxe', 'star']\n"
     ]
    }
   ],
   "source": [
    "str ='AB cd long how 123 abbbb brown 89 !@£abABBB ja foxe absolutely star wonderful'\n",
    "result=re.findall(r'\\b\\w{4}\\b',str)\n",
    "print (result)"
   ]
  },
  {
   "cell_type": "code",
   "execution_count": 176,
   "id": "2f1ce485",
   "metadata": {},
   "outputs": [
    {
     "name": "stdout",
     "output_type": "stream",
     "text": [
      "['0132', '1458', '2725']\n"
     ]
    }
   ],
   "source": [
    "str ='01 0132 231875 1458 301 2725'\n",
    "result=re.findall(r'\\b\\w{4}\\b',str)\n",
    "print (result)"
   ]
  },
  {
   "cell_type": "code",
   "execution_count": null,
   "id": "0c98ced0",
   "metadata": {},
   "outputs": [],
   "source": []
  }
 ],
 "metadata": {
  "kernelspec": {
   "display_name": "Python 3 (ipykernel)",
   "language": "python",
   "name": "python3"
  },
  "language_info": {
   "codemirror_mode": {
    "name": "ipython",
    "version": 3
   },
   "file_extension": ".py",
   "mimetype": "text/x-python",
   "name": "python",
   "nbconvert_exporter": "python",
   "pygments_lexer": "ipython3",
   "version": "3.11.4"
  }
 },
 "nbformat": 4,
 "nbformat_minor": 5
}
